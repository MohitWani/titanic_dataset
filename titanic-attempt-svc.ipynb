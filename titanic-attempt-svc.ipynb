{
 "cells": [
  {
   "cell_type": "code",
   "execution_count": 1,
   "metadata": {
    "execution": {
     "iopub.execute_input": "2022-04-07T17:14:48.820615Z",
     "iopub.status.busy": "2022-04-07T17:14:48.819590Z",
     "iopub.status.idle": "2022-04-07T17:14:48.822913Z",
     "shell.execute_reply": "2022-04-07T17:14:48.823377Z",
     "shell.execute_reply.started": "2022-04-07T17:10:33.318626Z"
    },
    "papermill": {
     "duration": 0.030378,
     "end_time": "2022-04-07T17:14:48.823649",
     "exception": false,
     "start_time": "2022-04-07T17:14:48.793271",
     "status": "completed"
    },
    "tags": []
   },
   "outputs": [],
   "source": [
    "##This is the same workflow as the previous attempt with GBC, just swapping out for an SVC model\n",
    "##For the full workflow including EDA and such, check it out: \n",
    "##https://www.kaggle.com/code/rhilavine/titanic-attempt-full-workflow-gbc"
   ]
  },
  {
   "cell_type": "code",
   "execution_count": 2,
   "metadata": {
    "_cell_guid": "b1076dfc-b9ad-4769-8c92-a6c4dae69d19",
    "_uuid": "8f2839f25d086af736a60e9eeb907d3b93b6e0e5",
    "execution": {
     "iopub.execute_input": "2022-04-07T17:14:48.871210Z",
     "iopub.status.busy": "2022-04-07T17:14:48.870592Z",
     "iopub.status.idle": "2022-04-07T17:14:49.813368Z",
     "shell.execute_reply": "2022-04-07T17:14:49.813851Z",
     "shell.execute_reply.started": "2022-04-07T17:06:26.039948Z"
    },
    "papermill": {
     "duration": 0.968035,
     "end_time": "2022-04-07T17:14:49.814019",
     "exception": false,
     "start_time": "2022-04-07T17:14:48.845984",
     "status": "completed"
    },
    "tags": []
   },
   "outputs": [
    {
     "name": "stdout",
     "output_type": "stream",
     "text": [
      "/kaggle/input/titanic/train.csv\n",
      "/kaggle/input/titanic/test.csv\n",
      "/kaggle/input/titanic/gender_submission.csv\n"
     ]
    }
   ],
   "source": [
    "# This Python 3 environment comes with many helpful analytics libraries installed\n",
    "# It is defined by the kaggle/python Docker image: https://github.com/kaggle/docker-python\n",
    "# For example, here's several helpful packages to load\n",
    "\n",
    "import numpy as np # linear algebra\n",
    "import pandas as pd # data processing, CSV file I/O (e.g. pd.read_csv)\n",
    "import warnings\n",
    "warnings.filterwarnings(\"ignore\")\n",
    "\n",
    "import seaborn as sns\n",
    "import matplotlib.pyplot as plt\n",
    "palette=sns.color_palette('magma')\n",
    "sns.set(palette=palette)\n",
    "# Input data files are available in the read-only \"../input/\" directory\n",
    "# For example, running this (by clicking run or pressing Shift+Enter) will list all files under the input directory\n",
    "\n",
    "import os\n",
    "for dirname, _, filenames in os.walk('/kaggle/input'):\n",
    "    for filename in filenames:\n",
    "        print(os.path.join(dirname, filename))\n",
    "\n",
    "# You can write up to 20GB to the current directory (/kaggle/working/) that gets preserved as output when you create a version using \"Save & Run All\" \n",
    "# You can also write temporary files to /kaggle/temp/, but they won't be saved outside of the current session"
   ]
  },
  {
   "cell_type": "code",
   "execution_count": 3,
   "metadata": {
    "execution": {
     "iopub.execute_input": "2022-04-07T17:14:49.864772Z",
     "iopub.status.busy": "2022-04-07T17:14:49.864100Z",
     "iopub.status.idle": "2022-04-07T17:14:49.885584Z",
     "shell.execute_reply": "2022-04-07T17:14:49.886063Z",
     "shell.execute_reply.started": "2022-04-07T17:06:27.296006Z"
    },
    "papermill": {
     "duration": 0.04884,
     "end_time": "2022-04-07T17:14:49.886238",
     "exception": false,
     "start_time": "2022-04-07T17:14:49.837398",
     "status": "completed"
    },
    "tags": []
   },
   "outputs": [],
   "source": [
    "##Import the data\n",
    "train = pd.read_csv('../input/titanic/train.csv')\n",
    "test = pd.read_csv('../input/titanic/test.csv')"
   ]
  },
  {
   "cell_type": "code",
   "execution_count": 4,
   "metadata": {
    "execution": {
     "iopub.execute_input": "2022-04-07T17:14:49.936250Z",
     "iopub.status.busy": "2022-04-07T17:14:49.935600Z",
     "iopub.status.idle": "2022-04-07T17:14:49.938415Z",
     "shell.execute_reply": "2022-04-07T17:14:49.937972Z",
     "shell.execute_reply.started": "2022-04-07T15:47:37.919492Z"
    },
    "papermill": {
     "duration": 0.029383,
     "end_time": "2022-04-07T17:14:49.938567",
     "exception": false,
     "start_time": "2022-04-07T17:14:49.909184",
     "status": "completed"
    },
    "tags": []
   },
   "outputs": [],
   "source": [
    "##Plan of action for cleaning and feature engineering:\n",
    "#1. Drop properties that aren't useful (Ticket) or lack too much data (Cabin)\n",
    "#2. Fill in missing values\n",
    "#3. Extract useful data from existing properties (Title from Name)\n",
    "#4. Dicretize continuous variables (Age and Fare)\n",
    "#5. Map integers onto non-int data\n",
    "#6. Drop redundant properties"
   ]
  },
  {
   "cell_type": "code",
   "execution_count": 5,
   "metadata": {
    "execution": {
     "iopub.execute_input": "2022-04-07T17:14:49.993234Z",
     "iopub.status.busy": "2022-04-07T17:14:49.992538Z",
     "iopub.status.idle": "2022-04-07T17:14:50.001953Z",
     "shell.execute_reply": "2022-04-07T17:14:50.001351Z",
     "shell.execute_reply.started": "2022-04-07T17:06:49.508626Z"
    },
    "papermill": {
     "duration": 0.040826,
     "end_time": "2022-04-07T17:14:50.002088",
     "exception": false,
     "start_time": "2022-04-07T17:14:49.961262",
     "status": "completed"
    },
    "tags": []
   },
   "outputs": [],
   "source": [
    "##1. Drop properties that aren't useful (Ticket) or lack too much data (Cabin)\n",
    "train = train.drop(['Ticket', 'Cabin'], axis=1)\n",
    "test = test.drop(['Ticket', 'Cabin'], axis=1)"
   ]
  },
  {
   "cell_type": "code",
   "execution_count": 6,
   "metadata": {
    "execution": {
     "iopub.execute_input": "2022-04-07T17:14:50.050272Z",
     "iopub.status.busy": "2022-04-07T17:14:50.049693Z",
     "iopub.status.idle": "2022-04-07T17:14:50.301611Z",
     "shell.execute_reply": "2022-04-07T17:14:50.300918Z",
     "shell.execute_reply.started": "2022-04-07T17:06:53.362966Z"
    },
    "papermill": {
     "duration": 0.27654,
     "end_time": "2022-04-07T17:14:50.301754",
     "exception": false,
     "start_time": "2022-04-07T17:14:50.025214",
     "status": "completed"
    },
    "tags": []
   },
   "outputs": [],
   "source": [
    "#Function to fill in continuous values via ML. In this case, I've used SVM here for funsies\n",
    "from sklearn.svm import SVR, SVC, LinearSVC #Calling them all because I'll use them later\n",
    "def svm_num(df,na_col): #pass in the dataset and either Age or Fare\n",
    "    df=df.copy()\n",
    "    \n",
    "    num_df = df.select_dtypes(np.number) \n",
    "    val_cols = num_df.loc[:,num_df.isna().sum() == 0].columns\n",
    "    \n",
    "    y_train = num_df.loc[num_df[na_col].isna()==False,na_col] \n",
    "    X_train = num_df.loc[num_df[na_col].isna()==False,val_cols]\n",
    "    X_test = num_df.loc[num_df[na_col].isna()==True,val_cols]\n",
    "    \n",
    "    svr = SVR()\n",
    "    svr.fit(X_train,y_train)\n",
    "    \n",
    "    y_pred = svr.predict(X_test)\n",
    "    \n",
    "    df.loc[df[na_col].isna()==True,na_col] = y_pred\n",
    "    \n",
    "    return df"
   ]
  },
  {
   "cell_type": "code",
   "execution_count": 7,
   "metadata": {
    "execution": {
     "iopub.execute_input": "2022-04-07T17:14:50.355350Z",
     "iopub.status.busy": "2022-04-07T17:14:50.352093Z",
     "iopub.status.idle": "2022-04-07T17:14:50.413109Z",
     "shell.execute_reply": "2022-04-07T17:14:50.412500Z",
     "shell.execute_reply.started": "2022-04-07T17:06:55.312621Z"
    },
    "papermill": {
     "duration": 0.088655,
     "end_time": "2022-04-07T17:14:50.413273",
     "exception": false,
     "start_time": "2022-04-07T17:14:50.324618",
     "status": "completed"
    },
    "tags": []
   },
   "outputs": [],
   "source": [
    "train=svm_num(train,'Age') #Use function to fill in age data in the train set"
   ]
  },
  {
   "cell_type": "code",
   "execution_count": 8,
   "metadata": {
    "execution": {
     "iopub.execute_input": "2022-04-07T17:14:50.488589Z",
     "iopub.status.busy": "2022-04-07T17:14:50.487923Z",
     "iopub.status.idle": "2022-04-07T17:14:50.499874Z",
     "shell.execute_reply": "2022-04-07T17:14:50.500362Z",
     "shell.execute_reply.started": "2022-04-07T17:06:56.937089Z"
    },
    "papermill": {
     "duration": 0.055693,
     "end_time": "2022-04-07T17:14:50.500546",
     "exception": false,
     "start_time": "2022-04-07T17:14:50.444853",
     "status": "completed"
    },
    "tags": []
   },
   "outputs": [],
   "source": [
    "test=svm_num(test,'Age') #...and the test set"
   ]
  },
  {
   "cell_type": "code",
   "execution_count": 9,
   "metadata": {
    "execution": {
     "iopub.execute_input": "2022-04-07T17:14:50.549342Z",
     "iopub.status.busy": "2022-04-07T17:14:50.548439Z",
     "iopub.status.idle": "2022-04-07T17:14:50.571116Z",
     "shell.execute_reply": "2022-04-07T17:14:50.571656Z",
     "shell.execute_reply.started": "2022-04-07T17:07:22.837843Z"
    },
    "papermill": {
     "duration": 0.048314,
     "end_time": "2022-04-07T17:14:50.571827",
     "exception": false,
     "start_time": "2022-04-07T17:14:50.523513",
     "status": "completed"
    },
    "tags": []
   },
   "outputs": [],
   "source": [
    "test=svm_num(test,'Fare') #And the missing fare value in the test set"
   ]
  },
  {
   "cell_type": "code",
   "execution_count": 10,
   "metadata": {
    "execution": {
     "iopub.execute_input": "2022-04-07T17:14:50.622393Z",
     "iopub.status.busy": "2022-04-07T17:14:50.621412Z",
     "iopub.status.idle": "2022-04-07T17:14:50.627150Z",
     "shell.execute_reply": "2022-04-07T17:14:50.627713Z",
     "shell.execute_reply.started": "2022-04-07T17:07:25.033867Z"
    },
    "papermill": {
     "duration": 0.032578,
     "end_time": "2022-04-07T17:14:50.627882",
     "exception": false,
     "start_time": "2022-04-07T17:14:50.595304",
     "status": "completed"
    },
    "tags": []
   },
   "outputs": [],
   "source": [
    "#There are still two missing values for the port of embarcation in the training set. Let's just fill them in with the mode.\n",
    "port = train.Embarked.dropna().mode()[0]\n",
    "train['Embarked'] = train['Embarked'].fillna(port)"
   ]
  },
  {
   "cell_type": "code",
   "execution_count": 11,
   "metadata": {
    "execution": {
     "iopub.execute_input": "2022-04-07T17:14:50.683283Z",
     "iopub.status.busy": "2022-04-07T17:14:50.682310Z",
     "iopub.status.idle": "2022-04-07T17:14:50.684921Z",
     "shell.execute_reply": "2022-04-07T17:14:50.684299Z",
     "shell.execute_reply.started": "2022-04-07T17:07:27.975855Z"
    },
    "papermill": {
     "duration": 0.034355,
     "end_time": "2022-04-07T17:14:50.685056",
     "exception": false,
     "start_time": "2022-04-07T17:14:50.650701",
     "status": "completed"
    },
    "tags": []
   },
   "outputs": [],
   "source": [
    "##3. Extract useful data from existing properties (Title from Name)\n",
    "all_data=[train,test]\n",
    "for dataset in all_data:\n",
    "    dataset['Title'] = dataset.Name.str.extract(' ([A-Za-z]+)\\.')"
   ]
  },
  {
   "cell_type": "code",
   "execution_count": 12,
   "metadata": {
    "execution": {
     "iopub.execute_input": "2022-04-07T17:14:50.742350Z",
     "iopub.status.busy": "2022-04-07T17:14:50.741403Z",
     "iopub.status.idle": "2022-04-07T17:14:50.743833Z",
     "shell.execute_reply": "2022-04-07T17:14:50.743353Z",
     "shell.execute_reply.started": "2022-04-07T17:07:29.713800Z"
    },
    "papermill": {
     "duration": 0.036111,
     "end_time": "2022-04-07T17:14:50.743984",
     "exception": false,
     "start_time": "2022-04-07T17:14:50.707873",
     "status": "completed"
    },
    "tags": []
   },
   "outputs": [],
   "source": [
    "for dataset in all_data:\n",
    "    dataset['Title'] = dataset['Title'].replace(['Lady', 'Countess','Capt', 'Col','Don', 'Dr', 'Major', 'Rev', 'Sir', 'Jonkheer', 'Dona'], 'Other')\n",
    "    dataset['Title'] = dataset['Title'].replace('Mlle', 'Miss')\n",
    "    dataset['Title'] = dataset['Title'].replace('Ms', 'Miss')\n",
    "    dataset['Title'] = dataset['Title'].replace('Mme', 'Mrs')"
   ]
  },
  {
   "cell_type": "code",
   "execution_count": 13,
   "metadata": {
    "execution": {
     "iopub.execute_input": "2022-04-07T17:14:50.804099Z",
     "iopub.status.busy": "2022-04-07T17:14:50.803423Z",
     "iopub.status.idle": "2022-04-07T17:14:50.806640Z",
     "shell.execute_reply": "2022-04-07T17:14:50.806062Z",
     "shell.execute_reply.started": "2022-04-07T17:07:37.354250Z"
    },
    "papermill": {
     "duration": 0.04051,
     "end_time": "2022-04-07T17:14:50.806776",
     "exception": false,
     "start_time": "2022-04-07T17:14:50.766266",
     "status": "completed"
    },
    "tags": []
   },
   "outputs": [],
   "source": [
    "##4. Discretize continuous variables (Age and Fare)\n",
    "#Separate age into categories\n",
    "all_data=[train,test]\n",
    "for dataset in all_data:    \n",
    "    dataset.loc[ dataset['Age'] <= 12, 'Age'] = 0 #Child\n",
    "    dataset.loc[(dataset['Age'] > 12) & (dataset['Age'] <= 19), 'Age'] = 1 #Teenager\n",
    "    dataset.loc[(dataset['Age'] > 19) & (dataset['Age'] <= 30), 'Age'] = 2 #Young adult\n",
    "    dataset.loc[(dataset['Age'] > 30) & (dataset['Age'] <= 50), 'Age'] = 3 #Adult\n",
    "    dataset.loc[(dataset['Age'] > 50), 'Age'] = 4 #Older adult\n",
    "    dataset['Age']=dataset['Age'].astype(int)"
   ]
  },
  {
   "cell_type": "code",
   "execution_count": 14,
   "metadata": {
    "execution": {
     "iopub.execute_input": "2022-04-07T17:14:50.865182Z",
     "iopub.status.busy": "2022-04-07T17:14:50.864479Z",
     "iopub.status.idle": "2022-04-07T17:14:50.866806Z",
     "shell.execute_reply": "2022-04-07T17:14:50.866040Z",
     "shell.execute_reply.started": "2022-04-07T17:11:47.715849Z"
    },
    "papermill": {
     "duration": 0.037946,
     "end_time": "2022-04-07T17:14:50.866953",
     "exception": false,
     "start_time": "2022-04-07T17:14:50.829007",
     "status": "completed"
    },
    "tags": []
   },
   "outputs": [],
   "source": [
    "#As with age, let's split the continous fare data into discrete categories\n",
    "all_data=[train,test]\n",
    "for dataset in all_data:    \n",
    "    dataset.loc[ dataset['Fare'] <= 10, 'Fare'] = 0 #Low\n",
    "    dataset.loc[(dataset['Fare'] > 10) & (dataset['Fare'] <= 25), 'Fare'] = 1 #Middle\n",
    "    dataset.loc[(dataset['Fare'] > 25) & (dataset['Fare'] <= 80), 'Fare'] = 2 #High\n",
    "    dataset.loc[(dataset['Fare'] > 80), 'Fare'] = 3 #Super high\n",
    "    dataset['Fare']=dataset['Fare'].astype(int)"
   ]
  },
  {
   "cell_type": "code",
   "execution_count": 15,
   "metadata": {
    "execution": {
     "iopub.execute_input": "2022-04-07T17:14:50.914729Z",
     "iopub.status.busy": "2022-04-07T17:14:50.914139Z",
     "iopub.status.idle": "2022-04-07T17:14:50.920018Z",
     "shell.execute_reply": "2022-04-07T17:14:50.920463Z",
     "shell.execute_reply.started": "2022-04-07T17:11:50.740538Z"
    },
    "papermill": {
     "duration": 0.031035,
     "end_time": "2022-04-07T17:14:50.920642",
     "exception": false,
     "start_time": "2022-04-07T17:14:50.889607",
     "status": "completed"
    },
    "tags": []
   },
   "outputs": [],
   "source": [
    "##5. Map integers onto non-int data. So that means Sex, Embarked, and Title.\n",
    "#Start with the Sex column\n",
    "all_data=[train,test]\n",
    "for dataset in all_data: \n",
    "    dataset['Sex'] = dataset['Sex'].map({'female': 1, 'male': 0}).astype(int)"
   ]
  },
  {
   "cell_type": "code",
   "execution_count": 16,
   "metadata": {
    "execution": {
     "iopub.execute_input": "2022-04-07T17:14:50.968393Z",
     "iopub.status.busy": "2022-04-07T17:14:50.967778Z",
     "iopub.status.idle": "2022-04-07T17:14:50.973858Z",
     "shell.execute_reply": "2022-04-07T17:14:50.974313Z",
     "shell.execute_reply.started": "2022-04-07T17:11:53.735682Z"
    },
    "papermill": {
     "duration": 0.031584,
     "end_time": "2022-04-07T17:14:50.974475",
     "exception": false,
     "start_time": "2022-04-07T17:14:50.942891",
     "status": "completed"
    },
    "tags": []
   },
   "outputs": [],
   "source": [
    "#Then Embarked...\n",
    "all_data=[train,test]\n",
    "for dataset in all_data:\n",
    "    dataset['Embarked'] = dataset['Embarked'].map({'S': 0, 'C': 1, 'Q': 2}).astype(int)"
   ]
  },
  {
   "cell_type": "code",
   "execution_count": 17,
   "metadata": {
    "execution": {
     "iopub.execute_input": "2022-04-07T17:14:51.022188Z",
     "iopub.status.busy": "2022-04-07T17:14:51.021587Z",
     "iopub.status.idle": "2022-04-07T17:14:51.028406Z",
     "shell.execute_reply": "2022-04-07T17:14:51.028915Z",
     "shell.execute_reply.started": "2022-04-07T17:11:56.901588Z"
    },
    "papermill": {
     "duration": 0.03211,
     "end_time": "2022-04-07T17:14:51.029087",
     "exception": false,
     "start_time": "2022-04-07T17:14:50.996977",
     "status": "completed"
    },
    "tags": []
   },
   "outputs": [],
   "source": [
    "#And finally for Title, filling in those without a title with \"0\"\n",
    "all_data=[train,test]\n",
    "for dataset in all_data:\n",
    "    dataset['Title'] = dataset['Title'].map({\"Mr\": 1, \"Miss\": 2, \"Mrs\": 3, \"Master\": 4, \"Other\": 5}).astype(int)\n",
    "    dataset['Title'] = dataset['Title'].fillna(0)"
   ]
  },
  {
   "cell_type": "code",
   "execution_count": 18,
   "metadata": {
    "execution": {
     "iopub.execute_input": "2022-04-07T17:14:51.076509Z",
     "iopub.status.busy": "2022-04-07T17:14:51.075944Z",
     "iopub.status.idle": "2022-04-07T17:14:51.079240Z",
     "shell.execute_reply": "2022-04-07T17:14:51.079786Z",
     "shell.execute_reply.started": "2022-04-07T17:12:11.136193Z"
    },
    "papermill": {
     "duration": 0.028562,
     "end_time": "2022-04-07T17:14:51.079941",
     "exception": false,
     "start_time": "2022-04-07T17:14:51.051379",
     "status": "completed"
    },
    "tags": []
   },
   "outputs": [],
   "source": [
    "##6. Drop redundant properties. We don't need PassengerID or Name in the datasets anymore. \n",
    "#However, be sure to stick the test set's PassengerIDs elsewhere to tack it onto the submission file!\n",
    "test_ids=test['PassengerId']"
   ]
  },
  {
   "cell_type": "code",
   "execution_count": 19,
   "metadata": {
    "execution": {
     "iopub.execute_input": "2022-04-07T17:14:51.130103Z",
     "iopub.status.busy": "2022-04-07T17:14:51.127753Z",
     "iopub.status.idle": "2022-04-07T17:14:51.133439Z",
     "shell.execute_reply": "2022-04-07T17:14:51.134006Z",
     "shell.execute_reply.started": "2022-04-07T17:12:15.933877Z"
    },
    "papermill": {
     "duration": 0.031543,
     "end_time": "2022-04-07T17:14:51.134174",
     "exception": false,
     "start_time": "2022-04-07T17:14:51.102631",
     "status": "completed"
    },
    "tags": []
   },
   "outputs": [],
   "source": [
    "train = train.drop(['Name','PassengerId'], axis=1)\n",
    "test = test.drop(['Name','PassengerId'], axis=1)"
   ]
  },
  {
   "cell_type": "code",
   "execution_count": 20,
   "metadata": {
    "execution": {
     "iopub.execute_input": "2022-04-07T17:14:51.197605Z",
     "iopub.status.busy": "2022-04-07T17:14:51.196948Z",
     "iopub.status.idle": "2022-04-07T17:14:51.203140Z",
     "shell.execute_reply": "2022-04-07T17:14:51.203703Z",
     "shell.execute_reply.started": "2022-04-07T17:12:21.955799Z"
    },
    "papermill": {
     "duration": 0.037736,
     "end_time": "2022-04-07T17:14:51.203889",
     "exception": false,
     "start_time": "2022-04-07T17:14:51.166153",
     "status": "completed"
    },
    "tags": []
   },
   "outputs": [],
   "source": [
    "##Time for some ML!\n",
    "from sklearn.model_selection import train_test_split\n",
    "X=train.drop('Survived', axis=1)\n",
    "y=train['Survived']"
   ]
  },
  {
   "cell_type": "code",
   "execution_count": 21,
   "metadata": {
    "execution": {
     "iopub.execute_input": "2022-04-07T17:14:51.269981Z",
     "iopub.status.busy": "2022-04-07T17:14:51.269188Z",
     "iopub.status.idle": "2022-04-07T17:14:51.276098Z",
     "shell.execute_reply": "2022-04-07T17:14:51.276728Z",
     "shell.execute_reply.started": "2022-04-07T17:12:24.737830Z"
    },
    "papermill": {
     "duration": 0.042162,
     "end_time": "2022-04-07T17:14:51.276906",
     "exception": false,
     "start_time": "2022-04-07T17:14:51.234744",
     "status": "completed"
    },
    "tags": []
   },
   "outputs": [],
   "source": [
    "#Split into test/training sets for the purpose of initial evaluation\n",
    "X_train, X_test, y_train, y_test = train_test_split(X, y, test_size=0.2, random_state=101)"
   ]
  },
  {
   "cell_type": "code",
   "execution_count": 22,
   "metadata": {
    "execution": {
     "iopub.execute_input": "2022-04-07T17:14:51.326607Z",
     "iopub.status.busy": "2022-04-07T17:14:51.325949Z",
     "iopub.status.idle": "2022-04-07T17:14:51.331011Z",
     "shell.execute_reply": "2022-04-07T17:14:51.331514Z",
     "shell.execute_reply.started": "2022-04-07T17:12:29.874017Z"
    },
    "papermill": {
     "duration": 0.031434,
     "end_time": "2022-04-07T17:14:51.331713",
     "exception": false,
     "start_time": "2022-04-07T17:14:51.300279",
     "status": "completed"
    },
    "tags": []
   },
   "outputs": [],
   "source": [
    "##A quick function to check out the performance of multiple models\n",
    "from sklearn.metrics import classification_report, plot_roc_curve, plot_confusion_matrix, plot_precision_recall_curve\n",
    "def report(model):\n",
    "    preds = model.predict(X_test)\n",
    "    print(classification_report(y_test,preds))"
   ]
  },
  {
   "cell_type": "code",
   "execution_count": 23,
   "metadata": {
    "execution": {
     "iopub.execute_input": "2022-04-07T17:14:51.386941Z",
     "iopub.status.busy": "2022-04-07T17:14:51.386052Z",
     "iopub.status.idle": "2022-04-07T17:14:51.411909Z",
     "shell.execute_reply": "2022-04-07T17:14:51.412416Z",
     "shell.execute_reply.started": "2022-04-07T17:13:02.254241Z"
    },
    "papermill": {
     "duration": 0.051615,
     "end_time": "2022-04-07T17:14:51.412628",
     "exception": false,
     "start_time": "2022-04-07T17:14:51.361013",
     "status": "completed"
    },
    "tags": []
   },
   "outputs": [
    {
     "data": {
      "text/plain": [
       "SVC()"
      ]
     },
     "execution_count": 23,
     "metadata": {},
     "output_type": "execute_result"
    }
   ],
   "source": [
    "#SVC (see complete workflow to see model performances, CV, and hyperparamter tuning)\n",
    "svc = SVC()\n",
    "svc.fit(X_train,y_train)"
   ]
  },
  {
   "cell_type": "code",
   "execution_count": 24,
   "metadata": {
    "execution": {
     "iopub.execute_input": "2022-04-07T17:14:51.466341Z",
     "iopub.status.busy": "2022-04-07T17:14:51.465283Z",
     "iopub.status.idle": "2022-04-07T17:14:51.490589Z",
     "shell.execute_reply": "2022-04-07T17:14:51.491094Z",
     "shell.execute_reply.started": "2022-04-07T17:13:24.473440Z"
    },
    "papermill": {
     "duration": 0.054968,
     "end_time": "2022-04-07T17:14:51.491278",
     "exception": false,
     "start_time": "2022-04-07T17:14:51.436310",
     "status": "completed"
    },
    "tags": []
   },
   "outputs": [
    {
     "data": {
      "text/plain": [
       "SVC(C=0.5)"
      ]
     },
     "execution_count": 24,
     "metadata": {},
     "output_type": "execute_result"
    }
   ],
   "source": [
    "svc_model=SVC(C= 0.5, gamma='scale')\n",
    "svc_model.fit(X_train,y_train)"
   ]
  },
  {
   "cell_type": "code",
   "execution_count": 25,
   "metadata": {
    "execution": {
     "iopub.execute_input": "2022-04-07T17:14:51.545167Z",
     "iopub.status.busy": "2022-04-07T17:14:51.544536Z",
     "iopub.status.idle": "2022-04-07T17:14:51.838038Z",
     "shell.execute_reply": "2022-04-07T17:14:51.837412Z",
     "shell.execute_reply.started": "2022-04-07T17:13:37.039967Z"
    },
    "papermill": {
     "duration": 0.320034,
     "end_time": "2022-04-07T17:14:51.838193",
     "exception": false,
     "start_time": "2022-04-07T17:14:51.518159",
     "status": "completed"
    },
    "tags": []
   },
   "outputs": [
    {
     "data": {
      "text/plain": [
       "<sklearn.metrics._plot.confusion_matrix.ConfusionMatrixDisplay at 0x7f39d93fe150>"
      ]
     },
     "execution_count": 25,
     "metadata": {},
     "output_type": "execute_result"
    },
    {
     "data": {
      "image/png": "[encoded data removed]",
      "text/plain": [
       "<Figure size 432x288 with 2 Axes>"
      ]
     },
     "metadata": {},
     "output_type": "display_data"
    }
   ],
   "source": [
    "plot_confusion_matrix(svc_model,X_test,y_test, xticks_rotation='vertical')"
   ]
  },
  {
   "cell_type": "code",
   "execution_count": 26,
   "metadata": {
    "execution": {
     "iopub.execute_input": "2022-04-07T17:14:51.894232Z",
     "iopub.status.busy": "2022-04-07T17:14:51.893358Z",
     "iopub.status.idle": "2022-04-07T17:14:52.150949Z",
     "shell.execute_reply": "2022-04-07T17:14:52.151367Z",
     "shell.execute_reply.started": "2022-04-07T17:13:43.795834Z"
    },
    "papermill": {
     "duration": 0.288845,
     "end_time": "2022-04-07T17:14:52.151546",
     "exception": false,
     "start_time": "2022-04-07T17:14:51.862701",
     "status": "completed"
    },
    "tags": []
   },
   "outputs": [
    {
     "data": {
      "text/plain": [
       "<sklearn.metrics._plot.roc_curve.RocCurveDisplay at 0x7f39d957c450>"
      ]
     },
     "execution_count": 26,
     "metadata": {},
     "output_type": "execute_result"
    },
    {
     "data": {
      "image/png": "[encoded data removed]",
      "text/plain": [
       "<Figure size 432x288 with 1 Axes>"
      ]
     },
     "metadata": {},
     "output_type": "display_data"
    }
   ],
   "source": [
    "plot_roc_curve(svc_model, X_test, y_test)"
   ]
  },
  {
   "cell_type": "code",
   "execution_count": 27,
   "metadata": {
    "execution": {
     "iopub.execute_input": "2022-04-07T17:14:52.214043Z",
     "iopub.status.busy": "2022-04-07T17:14:52.213417Z",
     "iopub.status.idle": "2022-04-07T17:14:52.469716Z",
     "shell.execute_reply": "2022-04-07T17:14:52.470150Z",
     "shell.execute_reply.started": "2022-04-07T17:13:47.580627Z"
    },
    "papermill": {
     "duration": 0.292613,
     "end_time": "2022-04-07T17:14:52.470319",
     "exception": false,
     "start_time": "2022-04-07T17:14:52.177706",
     "status": "completed"
    },
    "tags": []
   },
   "outputs": [
    {
     "data": {
      "text/plain": [
       "<sklearn.metrics._plot.precision_recall_curve.PrecisionRecallDisplay at 0x7f39d7289290>"
      ]
     },
     "execution_count": 27,
     "metadata": {},
     "output_type": "execute_result"
    },
    {
     "data": {
      "image/png": "[encoded data removed]",
      "text/plain": [
       "<Figure size 432x288 with 1 Axes>"
      ]
     },
     "metadata": {},
     "output_type": "display_data"
    }
   ],
   "source": [
    "plot_precision_recall_curve(svc_model, X_test, y_test)"
   ]
  },
  {
   "cell_type": "code",
   "execution_count": 28,
   "metadata": {
    "execution": {
     "iopub.execute_input": "2022-04-07T17:14:52.529243Z",
     "iopub.status.busy": "2022-04-07T17:14:52.528679Z",
     "iopub.status.idle": "2022-04-07T17:14:52.556617Z",
     "shell.execute_reply": "2022-04-07T17:14:52.556135Z",
     "shell.execute_reply.started": "2022-04-07T17:14:11.066113Z"
    },
    "papermill": {
     "duration": 0.059879,
     "end_time": "2022-04-07T17:14:52.556769",
     "exception": false,
     "start_time": "2022-04-07T17:14:52.496890",
     "status": "completed"
    },
    "tags": []
   },
   "outputs": [
    {
     "data": {
      "text/plain": [
       "SVC(C=0.5)"
      ]
     },
     "execution_count": 28,
     "metadata": {},
     "output_type": "execute_result"
    }
   ],
   "source": [
    "svc_model.fit(X,y)"
   ]
  },
  {
   "cell_type": "code",
   "execution_count": 29,
   "metadata": {
    "execution": {
     "iopub.execute_input": "2022-04-07T17:14:52.616588Z",
     "iopub.status.busy": "2022-04-07T17:14:52.615716Z",
     "iopub.status.idle": "2022-04-07T17:14:52.632959Z",
     "shell.execute_reply": "2022-04-07T17:14:52.633425Z",
     "shell.execute_reply.started": "2022-04-07T17:14:18.910939Z"
    },
    "papermill": {
     "duration": 0.050627,
     "end_time": "2022-04-07T17:14:52.633605",
     "exception": false,
     "start_time": "2022-04-07T17:14:52.582978",
     "status": "completed"
    },
    "tags": []
   },
   "outputs": [],
   "source": [
    "final_preds=svc_model.predict(test)\n",
    "submission = pd.concat([test_ids,pd.Series(final_preds,name=\"Survived\")],axis=1)\n",
    "submission.to_csv(\"./submission.csv\",index=False,header=True)"
   ]
  }
 ],
 "metadata": {
  "kernelspec": {
   "display_name": "Python 3",
   "language": "python",
   "name": "python3"
  },
  "language_info": {
   "codemirror_mode": {
    "name": "ipython",
    "version": 3
   },
   "file_extension": ".py",
   "mimetype": "text/x-python",
   "name": "python",
   "nbconvert_exporter": "python",
   "pygments_lexer": "ipython3",
   "version": "3.8.5"
  },
  "papermill": {
   "default_parameters": {},
   "duration": 12.590793,
   "end_time": "2022-04-07T17:14:53.369547",
   "environment_variables": {},
   "exception": null,
   "input_path": "__notebook__.ipynb",
   "output_path": "__notebook__.ipynb",
   "parameters": {},
   "start_time": "2022-04-07T17:14:40.778754",
   "version": "2.3.3"
  }
 },
 "nbformat": 4,
 "nbformat_minor": 5
}
